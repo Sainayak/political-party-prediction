{
  "nbformat": 4,
  "nbformat_minor": 0,
  "metadata": {
    "colab": {
      "name": "sainayak_pillarisetty_political_party_prediction.ipynb",
      "provenance": [],
      "collapsed_sections": [],
      "toc_visible": true,
      "authorship_tag": "ABX9TyN7s2WpxHQiC+PE5il7xQVe",
      "include_colab_link": true
    },
    "kernelspec": {
      "name": "python3",
      "display_name": "Python 3"
    }
  },
  "cells": [
    {
      "cell_type": "markdown",
      "metadata": {
        "id": "view-in-github",
        "colab_type": "text"
      },
      "source": [
        "<a href=\"https://colab.research.google.com/github/Sainayak/political-party-prediction/blob/main/sainayak_pillarisetty_political_party_prediction.ipynb\" target=\"_parent\"><img src=\"https://colab.research.google.com/assets/colab-badge.svg\" alt=\"Open In Colab\"/></a>"
      ]
    },
    {
      "cell_type": "markdown",
      "metadata": {
        "id": "ZVjsdZK6GkVy"
      },
      "source": [
        "# Import Libraries\n"
      ]
    },
    {
      "cell_type": "code",
      "metadata": {
        "id": "IhcfUOLRGu6-"
      },
      "source": [
        "import pandas as pd\n",
        "from sklearn.preprocessing import LabelEncoder\n",
        "from sklearn.model_selection import train_test_split\n",
        "from sklearn.linear_model import LogisticRegression\n",
        "from xgboost import XGBClassifier"
      ],
      "execution_count": 17,
      "outputs": []
    },
    {
      "cell_type": "code",
      "metadata": {
        "id": "ReVZ7VV_Gyra"
      },
      "source": [
        "# Load Data\n"
      ],
      "execution_count": null,
      "outputs": []
    },
    {
      "cell_type": "code",
      "metadata": {
        "colab": {
          "base_uri": "https://localhost:8080/",
          "height": 221
        },
        "id": "DOMZz0zQGgIq",
        "outputId": "9b42311d-4f4f-4adc-f784-c7fca25da589"
      },
      "source": [
        "\n",
        "\n",
        "tax_data  = pd.read_csv(\"https://raw.githubusercontent.com/dphi-official/Datasets/master/tax_payers/train_set_label.csv\" )\n",
        "tax_data.head()\n"
      ],
      "execution_count": 3,
      "outputs": [
        {
          "output_type": "execute_result",
          "data": {
            "text/html": [
              "<div>\n",
              "<style scoped>\n",
              "    .dataframe tbody tr th:only-of-type {\n",
              "        vertical-align: middle;\n",
              "    }\n",
              "\n",
              "    .dataframe tbody tr th {\n",
              "        vertical-align: top;\n",
              "    }\n",
              "\n",
              "    .dataframe thead th {\n",
              "        text-align: right;\n",
              "    }\n",
              "</style>\n",
              "<table border=\"1\" class=\"dataframe\">\n",
              "  <thead>\n",
              "    <tr style=\"text-align: right;\">\n",
              "      <th></th>\n",
              "      <th>Unnamed: 0</th>\n",
              "      <th>HHI</th>\n",
              "      <th>HHDL</th>\n",
              "      <th>Married</th>\n",
              "      <th>CollegGrads</th>\n",
              "      <th>AHHAge</th>\n",
              "      <th>Cars</th>\n",
              "      <th>Filed in 2017</th>\n",
              "      <th>Filed in 2016</th>\n",
              "      <th>Filed in 2015</th>\n",
              "      <th>PoliticalParty</th>\n",
              "    </tr>\n",
              "  </thead>\n",
              "  <tbody>\n",
              "    <tr>\n",
              "      <th>0</th>\n",
              "      <td>61</td>\n",
              "      <td>183414</td>\n",
              "      <td>-12402</td>\n",
              "      <td>1</td>\n",
              "      <td>2</td>\n",
              "      <td>28</td>\n",
              "      <td>1</td>\n",
              "      <td>0</td>\n",
              "      <td>0</td>\n",
              "      <td>1</td>\n",
              "      <td>Democrat</td>\n",
              "    </tr>\n",
              "    <tr>\n",
              "      <th>1</th>\n",
              "      <td>501</td>\n",
              "      <td>129786</td>\n",
              "      <td>700251</td>\n",
              "      <td>2</td>\n",
              "      <td>5</td>\n",
              "      <td>63</td>\n",
              "      <td>3</td>\n",
              "      <td>0</td>\n",
              "      <td>0</td>\n",
              "      <td>0</td>\n",
              "      <td>Republican</td>\n",
              "    </tr>\n",
              "    <tr>\n",
              "      <th>2</th>\n",
              "      <td>658</td>\n",
              "      <td>268343</td>\n",
              "      <td>493411</td>\n",
              "      <td>2</td>\n",
              "      <td>4</td>\n",
              "      <td>44</td>\n",
              "      <td>1</td>\n",
              "      <td>1</td>\n",
              "      <td>0</td>\n",
              "      <td>1</td>\n",
              "      <td>Independent</td>\n",
              "    </tr>\n",
              "    <tr>\n",
              "      <th>3</th>\n",
              "      <td>703</td>\n",
              "      <td>290506</td>\n",
              "      <td>-433408</td>\n",
              "      <td>1</td>\n",
              "      <td>1</td>\n",
              "      <td>28</td>\n",
              "      <td>5</td>\n",
              "      <td>1</td>\n",
              "      <td>0</td>\n",
              "      <td>1</td>\n",
              "      <td>Republican</td>\n",
              "    </tr>\n",
              "    <tr>\n",
              "      <th>4</th>\n",
              "      <td>702</td>\n",
              "      <td>90108</td>\n",
              "      <td>907135</td>\n",
              "      <td>1</td>\n",
              "      <td>3</td>\n",
              "      <td>57</td>\n",
              "      <td>5</td>\n",
              "      <td>1</td>\n",
              "      <td>1</td>\n",
              "      <td>0</td>\n",
              "      <td>Democrat</td>\n",
              "    </tr>\n",
              "  </tbody>\n",
              "</table>\n",
              "</div>"
            ],
            "text/plain": [
              "   Unnamed: 0     HHI    HHDL  ...  Filed in 2016  Filed in 2015  PoliticalParty\n",
              "0          61  183414  -12402  ...              0              1        Democrat\n",
              "1         501  129786  700251  ...              0              0      Republican\n",
              "2         658  268343  493411  ...              0              1     Independent\n",
              "3         703  290506 -433408  ...              0              1      Republican\n",
              "4         702   90108  907135  ...              1              0        Democrat\n",
              "\n",
              "[5 rows x 11 columns]"
            ]
          },
          "metadata": {
            "tags": []
          },
          "execution_count": 3
        }
      ]
    },
    {
      "cell_type": "markdown",
      "metadata": {
        "id": "f_5AWQzBG-Yu"
      },
      "source": [
        "# Data Analysis"
      ]
    },
    {
      "cell_type": "code",
      "metadata": {
        "colab": {
          "base_uri": "https://localhost:8080/"
        },
        "id": "R3WKLmBvHBje",
        "outputId": "eea57c23-476f-4526-bac8-cddddddbe3df"
      },
      "source": [
        "tax_data.info()"
      ],
      "execution_count": 4,
      "outputs": [
        {
          "output_type": "stream",
          "text": [
            "<class 'pandas.core.frame.DataFrame'>\n",
            "RangeIndex: 803 entries, 0 to 802\n",
            "Data columns (total 11 columns):\n",
            " #   Column          Non-Null Count  Dtype \n",
            "---  ------          --------------  ----- \n",
            " 0   Unnamed: 0      803 non-null    int64 \n",
            " 1   HHI             803 non-null    int64 \n",
            " 2   HHDL            803 non-null    int64 \n",
            " 3   Married         803 non-null    int64 \n",
            " 4   CollegGrads     803 non-null    int64 \n",
            " 5   AHHAge          803 non-null    int64 \n",
            " 6   Cars            803 non-null    int64 \n",
            " 7   Filed in 2017   803 non-null    int64 \n",
            " 8   Filed in 2016   803 non-null    int64 \n",
            " 9   Filed in 2015   803 non-null    int64 \n",
            " 10  PoliticalParty  803 non-null    object\n",
            "dtypes: int64(10), object(1)\n",
            "memory usage: 69.1+ KB\n"
          ],
          "name": "stdout"
        }
      ]
    },
    {
      "cell_type": "code",
      "metadata": {
        "colab": {
          "base_uri": "https://localhost:8080/"
        },
        "id": "TuPkzhncHBc2",
        "outputId": "3c9837df-7f22-4070-ca1c-52039e5debf1"
      },
      "source": [
        "tax_data.PoliticalParty.value_counts()"
      ],
      "execution_count": 5,
      "outputs": [
        {
          "output_type": "execute_result",
          "data": {
            "text/plain": [
              "Democrat       269\n",
              "Independent    269\n",
              "Republican     265\n",
              "Name: PoliticalParty, dtype: int64"
            ]
          },
          "metadata": {
            "tags": []
          },
          "execution_count": 5
        }
      ]
    },
    {
      "cell_type": "markdown",
      "metadata": {
        "id": "5TQznuMmJemm"
      },
      "source": [
        "# Splitting data into independent and dependent variables"
      ]
    },
    {
      "cell_type": "markdown",
      "metadata": {
        "id": "06CtxktLJegw"
      },
      "source": [
        ""
      ]
    },
    {
      "cell_type": "code",
      "metadata": {
        "colab": {
          "base_uri": "https://localhost:8080/",
          "height": 204
        },
        "id": "h6blWbhgIT3y",
        "outputId": "0d55f429-0224-4ae8-a27b-e3066ddbd859"
      },
      "source": [
        "y = tax_data[\"PoliticalParty\"]\n",
        "x = tax_data.drop([\"PoliticalParty\"],axis=1)\n",
        "x = x.drop([\"Unnamed: 0\"],axis=1)\n",
        "x.head()"
      ],
      "execution_count": 7,
      "outputs": [
        {
          "output_type": "execute_result",
          "data": {
            "text/html": [
              "<div>\n",
              "<style scoped>\n",
              "    .dataframe tbody tr th:only-of-type {\n",
              "        vertical-align: middle;\n",
              "    }\n",
              "\n",
              "    .dataframe tbody tr th {\n",
              "        vertical-align: top;\n",
              "    }\n",
              "\n",
              "    .dataframe thead th {\n",
              "        text-align: right;\n",
              "    }\n",
              "</style>\n",
              "<table border=\"1\" class=\"dataframe\">\n",
              "  <thead>\n",
              "    <tr style=\"text-align: right;\">\n",
              "      <th></th>\n",
              "      <th>HHI</th>\n",
              "      <th>HHDL</th>\n",
              "      <th>Married</th>\n",
              "      <th>CollegGrads</th>\n",
              "      <th>AHHAge</th>\n",
              "      <th>Cars</th>\n",
              "      <th>Filed in 2017</th>\n",
              "      <th>Filed in 2016</th>\n",
              "      <th>Filed in 2015</th>\n",
              "    </tr>\n",
              "  </thead>\n",
              "  <tbody>\n",
              "    <tr>\n",
              "      <th>0</th>\n",
              "      <td>183414</td>\n",
              "      <td>-12402</td>\n",
              "      <td>1</td>\n",
              "      <td>2</td>\n",
              "      <td>28</td>\n",
              "      <td>1</td>\n",
              "      <td>0</td>\n",
              "      <td>0</td>\n",
              "      <td>1</td>\n",
              "    </tr>\n",
              "    <tr>\n",
              "      <th>1</th>\n",
              "      <td>129786</td>\n",
              "      <td>700251</td>\n",
              "      <td>2</td>\n",
              "      <td>5</td>\n",
              "      <td>63</td>\n",
              "      <td>3</td>\n",
              "      <td>0</td>\n",
              "      <td>0</td>\n",
              "      <td>0</td>\n",
              "    </tr>\n",
              "    <tr>\n",
              "      <th>2</th>\n",
              "      <td>268343</td>\n",
              "      <td>493411</td>\n",
              "      <td>2</td>\n",
              "      <td>4</td>\n",
              "      <td>44</td>\n",
              "      <td>1</td>\n",
              "      <td>1</td>\n",
              "      <td>0</td>\n",
              "      <td>1</td>\n",
              "    </tr>\n",
              "    <tr>\n",
              "      <th>3</th>\n",
              "      <td>290506</td>\n",
              "      <td>-433408</td>\n",
              "      <td>1</td>\n",
              "      <td>1</td>\n",
              "      <td>28</td>\n",
              "      <td>5</td>\n",
              "      <td>1</td>\n",
              "      <td>0</td>\n",
              "      <td>1</td>\n",
              "    </tr>\n",
              "    <tr>\n",
              "      <th>4</th>\n",
              "      <td>90108</td>\n",
              "      <td>907135</td>\n",
              "      <td>1</td>\n",
              "      <td>3</td>\n",
              "      <td>57</td>\n",
              "      <td>5</td>\n",
              "      <td>1</td>\n",
              "      <td>1</td>\n",
              "      <td>0</td>\n",
              "    </tr>\n",
              "  </tbody>\n",
              "</table>\n",
              "</div>"
            ],
            "text/plain": [
              "      HHI    HHDL  Married  ...  Filed in 2017  Filed in 2016  Filed in 2015\n",
              "0  183414  -12402        1  ...              0              0              1\n",
              "1  129786  700251        2  ...              0              0              0\n",
              "2  268343  493411        2  ...              1              0              1\n",
              "3  290506 -433408        1  ...              1              0              1\n",
              "4   90108  907135        1  ...              1              1              0\n",
              "\n",
              "[5 rows x 9 columns]"
            ]
          },
          "metadata": {
            "tags": []
          },
          "execution_count": 7
        }
      ]
    },
    {
      "cell_type": "code",
      "metadata": {
        "id": "TENrP19jITWC"
      },
      "source": [
        "label_encoder = LabelEncoder().fit(y)\n",
        "y = label_encoder.transform(y)"
      ],
      "execution_count": 9,
      "outputs": []
    },
    {
      "cell_type": "markdown",
      "metadata": {
        "id": "oxXjXOs-Kfg8"
      },
      "source": [
        "# Splitting data to training and Test"
      ]
    },
    {
      "cell_type": "code",
      "metadata": {
        "id": "BVXCxAyXKoFy"
      },
      "source": [
        "x_train, x_test, y_train, y_test = train_test_split(x, y, test_size=0.2, random_state=42)"
      ],
      "execution_count": 13,
      "outputs": []
    },
    {
      "cell_type": "markdown",
      "metadata": {
        "id": "XJ6gC2D3MVP7"
      },
      "source": [
        "# Build Machine Learning Model"
      ]
    },
    {
      "cell_type": "code",
      "metadata": {
        "colab": {
          "base_uri": "https://localhost:8080/"
        },
        "id": "jGrw9lA8MaHW",
        "outputId": "06ea0379-b51e-400d-aefb-2d213d5c57f8"
      },
      "source": [
        "\n",
        " model = XGBClassifier(num_class=3,objective='multi:softmax')\n",
        "model.fit(x_train, y_train)\n"
      ],
      "execution_count": 24,
      "outputs": [
        {
          "output_type": "execute_result",
          "data": {
            "text/plain": [
              "XGBClassifier(base_score=0.5, booster='gbtree', colsample_bylevel=1,\n",
              "              colsample_bynode=1, colsample_bytree=1, gamma=0,\n",
              "              learning_rate=0.1, max_delta_step=0, max_depth=3,\n",
              "              min_child_weight=1, missing=None, n_estimators=100, n_jobs=1,\n",
              "              nthread=None, num_class=3, objective='multi:softprob',\n",
              "              random_state=0, reg_alpha=0, reg_lambda=1, scale_pos_weight=1,\n",
              "              seed=None, silent=None, subsample=1, verbosity=1)"
            ]
          },
          "metadata": {
            "tags": []
          },
          "execution_count": 24
        }
      ]
    },
    {
      "cell_type": "markdown",
      "metadata": {
        "id": "b3Gl2yGPMjg2"
      },
      "source": [
        "# Evaluate Model"
      ]
    },
    {
      "cell_type": "code",
      "metadata": {
        "colab": {
          "base_uri": "https://localhost:8080/"
        },
        "id": "4gW0B0yLN1rl",
        "outputId": "5a7db090-13ae-4de2-eb51-a2649515b301"
      },
      "source": [
        "y_train_pred = model.predict(x_train)\n",
        "from sklearn.metrics import accuracy_score,f1_score\n",
        "#train\n",
        "print(accuracy_score(y_train,y_train_pred)*100)\n",
        "print(f1_score(y_train,y_train_pred,average = \"micro\")*100)\n",
        "y_test_pred = logisticRegr.predict(x_test)\n",
        "print(accuracy_score(y_test,y_test_pred)*100)\n",
        "print(f1_score(y_test,y_test_pred,average= \"micro\")*100)"
      ],
      "execution_count": 31,
      "outputs": [
        {
          "output_type": "stream",
          "text": [
            "75.0778816199377\n",
            "75.0778816199377\n",
            "33.54037267080746\n",
            "33.54037267080746\n"
          ],
          "name": "stdout"
        }
      ]
    },
    {
      "cell_type": "markdown",
      "metadata": {
        "id": "1dv_H6HyQpme"
      },
      "source": [
        "# Load Test Data"
      ]
    },
    {
      "cell_type": "code",
      "metadata": {
        "colab": {
          "base_uri": "https://localhost:8080/",
          "height": 221
        },
        "id": "BTvWMA8TQs21",
        "outputId": "f0fe1215-bfc3-4cd8-a1d3-5449bb96ad9e"
      },
      "source": [
        "test_data = pd.read_csv('https://raw.githubusercontent.com/dphi-official/Datasets/master/tax_payers/test_set_label.csv')\n",
        "test_data.head()\n"
      ],
      "execution_count": 36,
      "outputs": [
        {
          "output_type": "execute_result",
          "data": {
            "text/html": [
              "<div>\n",
              "<style scoped>\n",
              "    .dataframe tbody tr th:only-of-type {\n",
              "        vertical-align: middle;\n",
              "    }\n",
              "\n",
              "    .dataframe tbody tr th {\n",
              "        vertical-align: top;\n",
              "    }\n",
              "\n",
              "    .dataframe thead th {\n",
              "        text-align: right;\n",
              "    }\n",
              "</style>\n",
              "<table border=\"1\" class=\"dataframe\">\n",
              "  <thead>\n",
              "    <tr style=\"text-align: right;\">\n",
              "      <th></th>\n",
              "      <th>Unnamed: 0</th>\n",
              "      <th>HHI</th>\n",
              "      <th>HHDL</th>\n",
              "      <th>Married</th>\n",
              "      <th>CollegGrads</th>\n",
              "      <th>AHHAge</th>\n",
              "      <th>Cars</th>\n",
              "      <th>Filed in 2017</th>\n",
              "      <th>Filed in 2016</th>\n",
              "      <th>Filed in 2015</th>\n",
              "    </tr>\n",
              "  </thead>\n",
              "  <tbody>\n",
              "    <tr>\n",
              "      <th>0</th>\n",
              "      <td>17</td>\n",
              "      <td>253274</td>\n",
              "      <td>-633752</td>\n",
              "      <td>2</td>\n",
              "      <td>1</td>\n",
              "      <td>94</td>\n",
              "      <td>3</td>\n",
              "      <td>0</td>\n",
              "      <td>1</td>\n",
              "      <td>1</td>\n",
              "    </tr>\n",
              "    <tr>\n",
              "      <th>1</th>\n",
              "      <td>590</td>\n",
              "      <td>47107</td>\n",
              "      <td>322850</td>\n",
              "      <td>0</td>\n",
              "      <td>1</td>\n",
              "      <td>30</td>\n",
              "      <td>2</td>\n",
              "      <td>1</td>\n",
              "      <td>1</td>\n",
              "      <td>0</td>\n",
              "    </tr>\n",
              "    <tr>\n",
              "      <th>2</th>\n",
              "      <td>224</td>\n",
              "      <td>111874</td>\n",
              "      <td>300583</td>\n",
              "      <td>0</td>\n",
              "      <td>2</td>\n",
              "      <td>46</td>\n",
              "      <td>3</td>\n",
              "      <td>0</td>\n",
              "      <td>1</td>\n",
              "      <td>1</td>\n",
              "    </tr>\n",
              "    <tr>\n",
              "      <th>3</th>\n",
              "      <td>960</td>\n",
              "      <td>96670</td>\n",
              "      <td>107419</td>\n",
              "      <td>0</td>\n",
              "      <td>3</td>\n",
              "      <td>77</td>\n",
              "      <td>5</td>\n",
              "      <td>0</td>\n",
              "      <td>0</td>\n",
              "      <td>0</td>\n",
              "    </tr>\n",
              "    <tr>\n",
              "      <th>4</th>\n",
              "      <td>57</td>\n",
              "      <td>128669</td>\n",
              "      <td>341273</td>\n",
              "      <td>0</td>\n",
              "      <td>0</td>\n",
              "      <td>92</td>\n",
              "      <td>4</td>\n",
              "      <td>1</td>\n",
              "      <td>1</td>\n",
              "      <td>1</td>\n",
              "    </tr>\n",
              "  </tbody>\n",
              "</table>\n",
              "</div>"
            ],
            "text/plain": [
              "   Unnamed: 0     HHI    HHDL  ...  Filed in 2017  Filed in 2016  Filed in 2015\n",
              "0          17  253274 -633752  ...              0              1              1\n",
              "1         590   47107  322850  ...              1              1              0\n",
              "2         224  111874  300583  ...              0              1              1\n",
              "3         960   96670  107419  ...              0              0              0\n",
              "4          57  128669  341273  ...              1              1              1\n",
              "\n",
              "[5 rows x 10 columns]"
            ]
          },
          "metadata": {
            "tags": []
          },
          "execution_count": 36
        }
      ]
    },
    {
      "cell_type": "code",
      "metadata": {
        "id": "EfIsZ188Q4P2"
      },
      "source": [
        "test_data = test_data.drop([\"Unnamed: 0\"],axis=1)\n"
      ],
      "execution_count": 37,
      "outputs": []
    },
    {
      "cell_type": "code",
      "metadata": {
        "id": "XN7887VVRS1D"
      },
      "source": [
        "y_pred = model.predict(test_data)\n",
        "y_pred = label_encoder.inverse_transform(y_pred)\n",
        "result_df = pd.DataFrame()\n",
        "result_df['prediction'] = y_pred\n",
        "\n",
        "result_df.reset_index(drop=True, inplace=True)\n",
        "result_df.to_csv('sample_submission.csv', index = False) "
      ],
      "execution_count": 40,
      "outputs": []
    }
  ]
}